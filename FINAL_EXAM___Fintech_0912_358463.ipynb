{
  "nbformat": 4,
  "nbformat_minor": 0,
  "metadata": {
    "colab": {
      "provenance": [],
      "toc_visible": true
    },
    "kernelspec": {
      "name": "python3",
      "display_name": "Python 3"
    },
    "language_info": {
      "name": "python"
    }
  },
  "cells": [
    {
      "cell_type": "markdown",
      "source": [
        "# Financial Econometrics in Python Exam\n"
      ],
      "metadata": {
        "id": "0YZyRapcsfOe"
      }
    },
    {
      "cell_type": "markdown",
      "source": [
        "## **Student ID**\n",
        "\n",
        "\n",
        "**Student ID:**358463"
      ],
      "metadata": {
        "id": "QFYHH5xciZJN"
      }
    },
    {
      "cell_type": "markdown",
      "source": [
        "\n",
        "## **Exam instructions**\n",
        "\n",
        "\n",
        "1. Consultation of books, notes or other resources during the exam is not allowed.\n",
        "2. Write your answer in the cell below the statement, you will find `Answer here`.\n",
        "3. You can test your code, if you need.\n",
        "4. GOOD LOOK  \n"
      ],
      "metadata": {
        "id": "JIyrl5vsuxs_"
      }
    },
    {
      "cell_type": "markdown",
      "source": [
        "## **Exam exercises**"
      ],
      "metadata": {
        "id": "FFZpb7Nrun0H"
      }
    },
    {
      "cell_type": "markdown",
      "source": [
        "### **Theoretical part**"
      ],
      "metadata": {
        "id": "DNpIqB5jwtGT"
      }
    },
    {
      "cell_type": "markdown",
      "source": [
        "#### **Question 1 (1P)**\n",
        "\n",
        "\n",
        "**Statement:** With which basic Python expression could we change\n",
        "\n",
        "`string_to_change='Python is great' to string_to_change = 'PYTHON IS GREAT'`?"
      ],
      "metadata": {
        "id": "FbRSiCJ2xdZS"
      }
    },
    {
      "cell_type": "markdown",
      "source": [
        "new_string=string_to_change.upper()\n"
      ],
      "metadata": {
        "id": "tr4U4dmgxsFs"
      }
    },
    {
      "cell_type": "code",
      "source": [
        "string_to_change='Python is great'\n",
        "new_string=string_to_change.upper()\n",
        "print(new_string)"
      ],
      "metadata": {
        "colab": {
          "base_uri": "https://localhost:8080/"
        },
        "id": "7HqRbcSgaWB0",
        "outputId": "96dac2d0-dba0-4cae-d1c5-a84e0bbad2eb"
      },
      "execution_count": 10,
      "outputs": [
        {
          "output_type": "stream",
          "name": "stdout",
          "text": [
            "PYTHON IS GREAT\n"
          ]
        }
      ]
    },
    {
      "cell_type": "markdown",
      "source": [
        "#### **Question 2 (1P)**\n",
        "\n",
        "**Statement:** With which basic Python expression could we remove an item to the **start** of a list?"
      ],
      "metadata": {
        "id": "R_A6s2O4yCd5"
      }
    },
    {
      "cell_type": "markdown",
      "source": [
        ".pop(0)\n"
      ],
      "metadata": {
        "id": "Z0LPhu366p4T"
      }
    },
    {
      "cell_type": "markdown",
      "source": [
        "**testo in grassetto**#### **Question 3 (1P)**\n",
        "\n",
        "team = {\"John\": \"Forward\", \"Alice\": \"Goalkeeper\", \"Mike\": \"Defender\"}\n",
        "\n",
        "**Statement:** How do you delete \"John\" key in the team dictionary? Give an example"
      ],
      "metadata": {
        "id": "t5oV-sD8ziZz"
      }
    },
    {
      "cell_type": "markdown",
      "source": [
        "team = {\"John\": \"Forward\", \"Alice\": \"Goalkeeper\", \"Mike\": \"Defender\"}\n",
        "\n",
        "del team[\"John\"]\n",
        "\n"
      ],
      "metadata": {
        "id": "mshCmYVmzw9B"
      }
    },
    {
      "cell_type": "markdown",
      "source": [
        "### **Practical part**"
      ],
      "metadata": {
        "id": "aSbCyS_Fx5kZ"
      }
    },
    {
      "cell_type": "markdown",
      "source": [
        "#### **Exercise 1: Filter positive numbers (2P)**\n",
        "\n",
        "**Write a function** called filterPositiveNumbersList that given an input list called **list_to_iterate**, returns a list with only positive numbers."
      ],
      "metadata": {
        "id": "5CLTwyqjj-bB"
      }
    },
    {
      "cell_type": "code",
      "source": [
        "def filterPositiveNumbersList(list_to_iterate):\n",
        "  positive_numbers=[]\n",
        "  for number in list_to_iterate:\n",
        "    if number>0:\n",
        "      positive_numbers.append(number)\n",
        "  return positive_numbers\n",
        "\n",
        "list_to_iterate=[-1,10-4,99,886,44-9999]\n",
        "result=filterPositiveNumbersList(list_to_iterate)\n",
        "print(result)"
      ],
      "metadata": {
        "id": "JZL0x4Grkd1J",
        "colab": {
          "base_uri": "https://localhost:8080/"
        },
        "outputId": "0de48d50-1fb9-448f-bd22-e70ef30fac93"
      },
      "execution_count": 9,
      "outputs": [
        {
          "output_type": "stream",
          "name": "stdout",
          "text": [
            "[6, 99, 886]\n"
          ]
        }
      ]
    },
    {
      "cell_type": "markdown",
      "source": [
        "\n",
        "#### **Exercise 2: Managing a Bookstore Inventory (2P)**\n",
        "\n",
        "**Statement**: You have a dictionary representing a bookstore's inventory. Perform the following tasks:\n",
        "\n",
        "1. Start with the dictionary: inventory = {\"1984\": \"Available\", \"To Kill a Mockingbird\": \"Out of Stock\", \"The Great Gatsby\": \"Available\"}\n",
        "2. Add a new book \"Moby Dick\" with the status \"Available\".\n",
        "3. Update the status of \"1984\" from \"Available\" to \"Reserved\".\n",
        "4. Print the availability status of \"The Great Gatsby\".\n",
        "5. Remove the book \"To Kill a Mockingbird\" from the inventory.\n",
        "6. Check if the bookstore has a book titled \"Pride and Prejudice\". If yes, print its status. Otherwise, print \"Pride and Prejudice is not in the inventory\".\n",
        "\n"
      ],
      "metadata": {
        "id": "queUNneBu6Vh"
      }
    },
    {
      "cell_type": "code",
      "source": [
        "#1\n",
        "inventory = {\"1984\": \"Available\", \"To Kill a Mockingbird\": \"Out of Stock\", \"The Great Gatsby\": \"Available\"}\n",
        "print(inventory)\n",
        "#2\n",
        "inventory[\"Moby Dick\"]=\"Available\"\n",
        "print(inventory)\n",
        "#3\n",
        "inventory[\"1984\"]=\"Reserved\"\n",
        "print(inventory)\n",
        "#4\n",
        "print(inventory[\"The Great Gatsby\"])\n",
        "#5\n",
        "del inventory[\"To Kill a Mockingbird\"]\n",
        "print(inventory)\n",
        "#6\n",
        "if \"Pride and Predjudice\" in inventory:\n",
        "  print(inventory[\"Pride and Predjudice\"])\n",
        "else:\n",
        "  print(\"Pride and Prejudice is not in the inventory\")"
      ],
      "metadata": {
        "colab": {
          "base_uri": "https://localhost:8080/"
        },
        "id": "CG8q-7TOWNwY",
        "outputId": "43977d41-04af-4f74-df62-a6cc8e1c2811"
      },
      "execution_count": 6,
      "outputs": [
        {
          "output_type": "stream",
          "name": "stdout",
          "text": [
            "{'1984': 'Available', 'To Kill a Mockingbird': 'Out of Stock', 'The Great Gatsby': 'Available'}\n",
            "{'1984': 'Available', 'To Kill a Mockingbird': 'Out of Stock', 'The Great Gatsby': 'Available', 'Moby Dick': 'Available'}\n",
            "{'1984': 'Reserved', 'To Kill a Mockingbird': 'Out of Stock', 'The Great Gatsby': 'Available', 'Moby Dick': 'Available'}\n",
            "Available\n",
            "{'1984': 'Reserved', 'The Great Gatsby': 'Available', 'Moby Dick': 'Available'}\n",
            "Pride and Prejudice is not in the inventory\n"
          ]
        }
      ]
    },
    {
      "cell_type": "markdown",
      "source": [
        "#### **Exercise 3: Defining a Class for Bank Accounts (3P)**\n",
        "\n",
        "1. Class Definition:\n",
        "- Create the class **Name**: `BankAccount`.\n",
        "- Attributes:\n",
        "  - `account_holder`: A string representing the name of the account holder.\n",
        "  - `account_number`: An integer representing the account number.\n",
        "  - `balance`: A float representing the current balance of the account.\n",
        "  - `account_type`: A string representing the type of account (\"Savings\", \"Checking\").\n",
        "\n",
        "---\n",
        "\n",
        "2. Initialization Method (`__init__`):\n",
        "- The `__init__` method should initialize the above attributes.\n",
        "\n",
        "---\n",
        "\n",
        "3. Method Implementation:\n",
        "- Add the following methods to the `BankAccount` class:\n",
        "  1. `deposit`:\n",
        "     - Accepts a parameter `amount`.\n",
        "     - Adds the `amount` to the `balance`.\n",
        "     - Prints the updated balance\n",
        "  2. `withdraw`:\n",
        "     - Accepts a parameter `amount`.\n",
        "     - Deducts the `amount` from the `balance`, if there are sufficient funds.\n",
        "     - Prints the updated balance if there are sufficient funds. Otherwise, prints \"Insufficient funds\".\n",
        "\n",
        "---\n",
        "\n",
        "4. Adding a New Attribute:\n",
        "- Add a new attribute `branch` to the class instance to represent the branch of the bank where the account is held."
      ],
      "metadata": {
        "id": "fVavaYKyg8lm"
      }
    },
    {
      "cell_type": "code",
      "source": [
        "class BankAccount:\n",
        "  def __init__(self,account_holder, account_number, balance, account_type, branch):\n",
        "    self.account_holder=account_holder\n",
        "    self.account_number=account_number\n",
        "    self.balance=balance\n",
        "    self.account_type=account_type\n",
        "    self.branch=branch\n",
        "\n",
        "  def deposit(self,amount):\n",
        "    updated_balance=self.balance+amount\n",
        "    print(updated_balance)\n",
        "\n",
        "  def withdraw(self,amount):\n",
        "    newbalance=self.balance-amount\n",
        "    if newbalance>0:\n",
        "      print(newbalance)\n",
        "    else:\n",
        "      print(\"Insufficient funds\")\n",
        "\n",
        "BANK=BankAccount(\"MR.Law\", 147972, 88987.44, \"Savings\", \"London\")\n",
        "BANK.deposit(5555)\n",
        "BANK.withdraw(44444)\n",
        "BANK.branch=\"London\"\n",
        "print(BANK.branch)\n",
        "\n",
        "\n"
      ],
      "metadata": {
        "id": "Z5sopOvgP8oC",
        "colab": {
          "base_uri": "https://localhost:8080/"
        },
        "outputId": "34264098-2340-458a-cf2d-eaec4991f566"
      },
      "execution_count": 8,
      "outputs": [
        {
          "output_type": "stream",
          "name": "stdout",
          "text": [
            "94542.44\n",
            "44543.44\n",
            "London\n"
          ]
        }
      ]
    }
  ]
}